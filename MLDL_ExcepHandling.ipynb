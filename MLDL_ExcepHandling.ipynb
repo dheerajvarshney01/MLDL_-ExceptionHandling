{
  "nbformat": 4,
  "nbformat_minor": 0,
  "metadata": {
    "colab": {
      "name": "Untitled6.ipynb",
      "provenance": []
    },
    "kernelspec": {
      "name": "python3",
      "display_name": "Python 3"
    }
  },
  "cells": [
    {
      "cell_type": "code",
      "metadata": {
        "id": "5oOv7UphU_5r",
        "colab_type": "code",
        "colab": {
          "base_uri": "https://localhost:8080/",
          "height": 34
        },
        "outputId": "1e857439-8e80-4ddf-8ca4-0a4a41677855"
      },
      "source": [
        "def div():\n",
        "    return 5/0\n",
        "\n",
        "try:\n",
        "    div()\n",
        "except ZeroDivisionError as zde:\n",
        "    print(\"Dividing a no. by zero will give an exception\")\n",
        "except:\n",
        "    print(\"other exception\")"
      ],
      "execution_count": 1,
      "outputs": [
        {
          "output_type": "stream",
          "text": [
            "Dividing a no. by zero will give an exception\n"
          ],
          "name": "stdout"
        }
      ]
    },
    {
      "cell_type": "code",
      "metadata": {
        "id": "fxnsKJZ2EXwu",
        "colab_type": "code",
        "colab": {
          "base_uri": "https://localhost:8080/",
          "height": 151
        },
        "outputId": "3e6a912f-8276-450d-82d4-153645c4072c"
      },
      "source": [
        "subject = [\"Americans\", \"Indians\"]\n",
        "verb = [\"Play\", \"watch\"]\n",
        "obj = [\"Baseball\",\"cricket\"]\n",
        "\n",
        "# Use list comprehension instead of looping over each of the predicates\n",
        "list = [(a+\" \"+ b + \" \" + c) for a in subject for b in verb for c in obj]\n",
        "for output in list:\n",
        "    print(output)"
      ],
      "execution_count": 5,
      "outputs": [
        {
          "output_type": "stream",
          "text": [
            "Americans Play Baseball\n",
            "Americans Play cricket\n",
            "Americans watch Baseball\n",
            "Americans watch cricket\n",
            "Indians Play Baseball\n",
            "Indians Play cricket\n",
            "Indians watch Baseball\n",
            "Indians watch cricket\n"
          ],
          "name": "stdout"
        }
      ]
    }
  ]
}